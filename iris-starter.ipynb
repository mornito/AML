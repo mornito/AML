{
  "cells": [
    {
      "cell_type": "markdown",
      "metadata": {},
      "source": [
        "# \ud83c\udf38 Iris Flower Classifier: Your First Machine Learning Model\n",
        "\n",
        "Welcome! In this notebook, you'll build a simple machine learning (ML) model to classify Iris flowers based on their features like petal and sepal size.\n",
        "\n",
        "### What is Machine Learning?\n",
        "Machine learning is like teaching a computer by showing it examples. Just like you learn by looking at different types of flowers, the computer learns from data.\n",
        "\n",
        "This guide is made for absolute beginners\u2014even if you're in 10th grade and new to coding!"
      ]
    },
    {
      "cell_type": "code",
      "execution_count": null,
      "metadata": {},
      "outputs": [],
      "source": [
        "# \ud83d\udcda Step 1: Import libraries\n",
        "\n",
        "# These are like your tools. We use them to load data, train the model, and check results.\n",
        "from sklearn.datasets import load_iris  # Built-in flower data\n",
        "from sklearn.model_selection import train_test_split  # Split data into training and testing\n",
        "from sklearn.ensemble import RandomForestClassifier  # A type of model\n",
        "from sklearn.metrics import accuracy_score, classification_report  # To measure how good the model is\n",
        "import pandas as pd  # To work with data like a table\n",
        "import matplotlib.pyplot as plt  # To make charts\n",
        "%matplotlib inline"
      ]
    },
    {
      "cell_type": "code",
      "execution_count": null,
      "metadata": {},
      "outputs": [],
      "source": [
        "# \ud83c\udf3c Step 2: Load the Iris dataset\n",
        "\n",
        "# The dataset has 150 rows. Each row is a flower with features like petal length.\n",
        "iris = load_iris()\n",
        "X = iris.data  # Features (numbers we use to make predictions)\n",
        "y = iris.target  # Labels (flower types: 0 = Setosa, 1 = Versicolor, 2 = Virginica)\n",
        "feature_names = iris.feature_names\n",
        "target_names = iris.target_names\n",
        "\n",
        "# Let's turn it into a table for better understanding\n",
        "df = pd.DataFrame(X, columns=feature_names)\n",
        "df['species'] = [target_names[i] for i in y]\n",
        "df.head()"
      ]
    },
    {
      "cell_type": "code",
      "execution_count": null,
      "metadata": {},
      "outputs": [],
      "source": [
        "# \ud83d\udcca Step 3: Visualize the data\n",
        "\n",
        "# Let's make a scatter plot to see how the features look.\n",
        "# Each dot is a flower. Colors show different species.\n",
        "pd.plotting.scatter_matrix(df[feature_names], figsize=(10, 8), c=y, cmap='viridis', diagonal='hist')\n",
        "plt.suptitle('Iris Feature Scatter Matrix', fontsize=16)\n",
        "plt.show()"
      ]
    },
    {
      "cell_type": "code",
      "execution_count": null,
      "metadata": {},
      "outputs": [],
      "source": [
        "# \u2702\ufe0f Step 4: Split the data into training and test sets\n",
        "\n",
        "# We train the model on 80% of data, and test it on 20% to see how it performs on new flowers.\n",
        "X_train, X_test, y_train, y_test = train_test_split(X, y, test_size=0.2, random_state=42)\n",
        "print(f\"Training samples: {len(X_train)}\\nTest samples: {len(X_test)}\")"
      ]
    },
    {
      "cell_type": "code",
      "execution_count": null,
      "metadata": {},
      "outputs": [],
      "source": [
        "# \ud83e\udd16 Step 5: Train a Random Forest model\n",
        "\n",
        "# A model is like a smart rulebook the computer writes after looking at the examples.\n",
        "model = RandomForestClassifier(random_state=42)\n",
        "model.fit(X_train, y_train)\n",
        "print(\"\u2705 Model trained!\")"
      ]
    },
    {
      "cell_type": "code",
      "execution_count": null,
      "metadata": {},
      "outputs": [],
      "source": [
        "# \ud83e\uddea Step 6: Test the model\n",
        "\n",
        "# We check if the model guesses the right species for the test data.\n",
        "y_pred = model.predict(X_test)\n",
        "accuracy = accuracy_score(y_test, y_pred)\n",
        "print(f\"\u2705 Accuracy: {accuracy:.2%}\\n\")\n",
        "print(\"\ud83d\udccb Classification Report:\")\n",
        "print(classification_report(y_test, y_pred, target_names=target_names))"
      ]
    },
    {
      "cell_type": "markdown",
      "metadata": {},
      "source": [
        "\ud83c\udf89 **Awesome!** You just trained your first machine learning model.\n",
        "\n",
        "Now try:\n",
        "- Changing the model type (like `KNeighborsClassifier`)\n",
        "- Using only 2 features and checking the accuracy\n",
        "- Asking a question: Can I make it better?\n",
        "\n",
        "You\u2019re officially an ML explorer now! \ud83d\ude80"
      ]
    }
  ],
  "metadata": {
    "kernelspec": {
      "display_name": "Python 3",
      "language": "python",
      "name": "python3"
    },
    "language_info": {
      "name": "python",
      "version": ""
    }
  },
  "nbformat": 4,
  "nbformat_minor": 2
}